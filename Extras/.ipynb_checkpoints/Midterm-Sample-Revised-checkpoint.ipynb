{
 "metadata": {
  "name": "",
  "signature": "sha256:102fad17d3cbfecc6731851378ce8dce0a053a5b60c730529d4d85772c1efba4"
 },
 "nbformat": 3,
 "nbformat_minor": 0,
 "worksheets": [
  {
   "cells": [
    {
     "cell_type": "markdown",
     "metadata": {},
     "source": [
      "Instructions\n",
      "----\n",
      "\n",
      "This is a \"closed book\" examination - in particular, you are not to use any resources outside of this notebook (except possibly pen and paper). You may consult help from within the notebook using ? but not any online references.\n",
      "\n",
      "You have 1 hour and 45 minutes to complete the exam. Note that the maximum score is 60 points.\n",
      "\n",
      "**Please make a copy of the notebook (File | Make a copy), and rename it to be `midterm-firstanme-lastname`. At the end of the exam, save to your Sakai Dropbox - any files with modification date beyond the end-of-exam time will not be graded.**"
     ]
    },
    {
     "cell_type": "code",
     "collapsed": false,
     "input": [
      "import os\n",
      "import sys\n",
      "import glob\n",
      "import matplotlib.pyplot as plt\n",
      "import numpy as np\n",
      "import pandas as pd\n",
      "%matplotlib inline\n",
      "plt.style.use('ggplot')"
     ],
     "language": "python",
     "metadata": {},
     "outputs": [],
     "prompt_number": 1
    },
    {
     "cell_type": "code",
     "collapsed": false,
     "input": [
      "np.set_printoptions(formatter={'float': '{: 0.3f}'.format})"
     ],
     "language": "python",
     "metadata": {},
     "outputs": [],
     "prompt_number": 2
    },
    {
     "cell_type": "code",
     "collapsed": false,
     "input": [
      "%load_ext rpy2.ipython"
     ],
     "language": "python",
     "metadata": {},
     "outputs": [],
     "prompt_number": 3
    },
    {
     "cell_type": "markdown",
     "metadata": {},
     "source": [
      "**Question 1 (10 points)**. \n",
      "\n",
      "Euclid's algorithm for finding the greatest common divisor of two numbers is\n",
      "\n",
      "```python\n",
      "gcd(a, 0) = a\n",
      "gcd(a, b) = gcd(b, a modulo b)\n",
      "```\n",
      "\n",
      "1. Write a function to find the greatest common divisor in Python (4 poinst)\n",
      "2. What is the greatest common divisor of 17384 and 1928? (1 point)\n",
      "3. Write a function to calculate the least common multiple (4 points)\n",
      "4. What is the least common multiple of 17384 and 1928? (1 point)"
     ]
    },
    {
     "cell_type": "code",
     "collapsed": false,
     "input": [
      "def gcd(a,b):\n",
      "    if b == 0:\n",
      "        return a\n",
      "    else:\n",
      "        return gcd(b, a%b)"
     ],
     "language": "python",
     "metadata": {},
     "outputs": [],
     "prompt_number": 4
    },
    {
     "cell_type": "code",
     "collapsed": false,
     "input": [
      "gcd(17384,1928)"
     ],
     "language": "python",
     "metadata": {},
     "outputs": [
      {
       "metadata": {},
       "output_type": "pyout",
       "prompt_number": 5,
       "text": [
        "8"
       ]
      }
     ],
     "prompt_number": 5
    },
    {
     "cell_type": "code",
     "collapsed": false,
     "input": [
      "def lcm(a, b):\n",
      "    return a * b / gcd(a,b)"
     ],
     "language": "python",
     "metadata": {},
     "outputs": [],
     "prompt_number": 6
    },
    {
     "cell_type": "code",
     "collapsed": false,
     "input": [
      "lcm(17384,1928)"
     ],
     "language": "python",
     "metadata": {},
     "outputs": [
      {
       "metadata": {},
       "output_type": "pyout",
       "prompt_number": 7,
       "text": [
        "4189544"
       ]
      }
     ],
     "prompt_number": 7
    },
    {
     "cell_type": "markdown",
     "metadata": {},
     "source": [
      "**Question 2 (10 points)**. \n",
      "\n",
      "Consider the following matrix $A$ with dimensions (4,6), to be interpreted as 4 rows of the measurements of 6 features.\n",
      "```python\n",
      "np.array([[5, 5, 2, 6, 2, 0],\n",
      "          [8, 6, 7, 8, 9, 7],\n",
      "          [9, 5, 0, 4, 6, 8],\n",
      "          [8, 7, 9, 3, 6, 1]])\n",
      "```\n",
      "\n",
      "1. Add 1 to the first row, 2 to the second row, 3 to the third row and 4 to the fourth row using a vector `v = np.array([1,2,3,4])` and broadcasting. (2 points)\n",
      "2. Normalize A so that its row means are all 0 and call it A1. (2 points)\n",
      "3. What are the singular values of A1? (2 points)\n",
      "4. What are the eigenvalues of the covariance matrix of A1? (2 points)\n",
      "5. Find the least squares solution vector $x$ if $Ax = y$ where `y = np.array([1,2,3,4]).T` (2 points)"
     ]
    },
    {
     "cell_type": "code",
     "collapsed": false,
     "input": [
      "A = np.array([[5, 5, 2, 6, 2, 0],\n",
      "              [8, 6, 7, 8, 9, 7],\n",
      "              [9, 5, 0, 4, 6, 8],\n",
      "              [8, 7, 9, 3, 6, 1]])"
     ],
     "language": "python",
     "metadata": {},
     "outputs": [],
     "prompt_number": 8
    },
    {
     "cell_type": "code",
     "collapsed": false,
     "input": [
      "v = np.array([1,2,3,4])\n",
      "\n",
      "A + v[:,None]"
     ],
     "language": "python",
     "metadata": {},
     "outputs": [
      {
       "metadata": {},
       "output_type": "pyout",
       "prompt_number": 9,
       "text": [
        "array([[ 6,  6,  3,  7,  3,  1],\n",
        "       [10,  8,  9, 10, 11,  9],\n",
        "       [12,  8,  3,  7,  9, 11],\n",
        "       [12, 11, 13,  7, 10,  5]])"
       ]
      }
     ],
     "prompt_number": 9
    },
    {
     "cell_type": "code",
     "collapsed": false,
     "input": [
      "A1 = A - A.mean(axis=1)[:,None]"
     ],
     "language": "python",
     "metadata": {},
     "outputs": [],
     "prompt_number": 10
    },
    {
     "cell_type": "code",
     "collapsed": false,
     "input": [
      "import scipy.linalg as la\n",
      "\n",
      "U,s,Vh = la.svd(A1, full_matrices = True)\n",
      "\n",
      "print \"The singular values are: \"\n",
      "print s"
     ],
     "language": "python",
     "metadata": {},
     "outputs": [
      {
       "output_type": "stream",
       "stream": "stdout",
       "text": [
        "The singular values are: \n",
        "[ 8.317  5.975  4.635  2.268]\n"
       ]
      }
     ],
     "prompt_number": 11
    },
    {
     "cell_type": "code",
     "collapsed": false,
     "input": [
      "e, V = la.eig(np.dot(A1,A1.T))\n",
      "\n",
      "print \"The eigenvalues of the covariance matrix of A1 are: \"\n",
      "print np.real_if_close(e)\n",
      "print\n",
      "print \"Note: the squares of the singular values are: \"\n",
      "print s**2"
     ],
     "language": "python",
     "metadata": {},
     "outputs": [
      {
       "output_type": "stream",
       "stream": "stdout",
       "text": [
        "The eigenvalues of the covariance matrix of A1 are: \n",
        "[ 69.167  35.705  21.486  5.143]\n",
        "\n",
        "Note: the squares of the singular values are: \n",
        "[ 69.167  35.705  21.486  5.143]\n"
       ]
      }
     ],
     "prompt_number": 12
    },
    {
     "cell_type": "code",
     "collapsed": false,
     "input": [
      "y = np.array([1,2,3,4])\n",
      "np.linalg.lstsq(A1,y)[0]"
     ],
     "language": "python",
     "metadata": {},
     "outputs": [
      {
       "metadata": {},
       "output_type": "pyout",
       "prompt_number": 13,
       "text": [
        "array([ 0.721, -0.366, -0.159, -0.274,  0.593, -0.516])"
       ]
      }
     ],
     "prompt_number": 13
    },
    {
     "cell_type": "markdown",
     "metadata": {},
     "source": [
      "**Question 3 (10 points)**.\n",
      "\n",
      "1. Prove that $e^{x^2 + y^2}$ is a convex function. (5 points)\n",
      "2. Using `scipy.optimize`, find the values of $x$ and $y$ that minimize $e^{x^2 + y^2}$ in the unconstrained case and in the presence of the constraint that $x + y = 3$. Use (1,1) as a starting guess (5 points)"
     ]
    },
    {
     "cell_type": "code",
     "collapsed": false,
     "input": [
      "import sympy\n",
      "from sympy import symbols, hessian, Function, N\n",
      "from sympy.functions import exp\n",
      "\n",
      "x, y = symbols('x y')\n",
      "f = symbols('f', cls=Function)\n",
      "\n",
      "f = exp(x**2 + y**2)\n",
      "H = sympy.Matrix(hessian(f, (x,y)))\n",
      "\n",
      "print 'The Hessian is: '\n",
      "H"
     ],
     "language": "python",
     "metadata": {},
     "outputs": [
      {
       "output_type": "stream",
       "stream": "stdout",
       "text": [
        "The Hessian is: \n"
       ]
      },
      {
       "metadata": {},
       "output_type": "pyout",
       "prompt_number": 14,
       "text": [
        "Matrix([\n",
        "[4*x**2*exp(x**2 + y**2) + 2*exp(x**2 + y**2),                       4*x*y*exp(x**2 + y**2)],\n",
        "[                      4*x*y*exp(x**2 + y**2), 4*y**2*exp(x**2 + y**2) + 2*exp(x**2 + y**2)]])"
       ]
      }
     ],
     "prompt_number": 14
    },
    {
     "cell_type": "code",
     "collapsed": false,
     "input": [
      "print 'The determinant of the Hessian is: '\n",
      "H.det()"
     ],
     "language": "python",
     "metadata": {},
     "outputs": [
      {
       "output_type": "stream",
       "stream": "stdout",
       "text": [
        "The determinant of the Hessian is: \n"
       ]
      },
      {
       "metadata": {},
       "output_type": "pyout",
       "prompt_number": 15,
       "text": [
        "8*x**2*exp(2*x**2)*exp(2*y**2) + 8*y**2*exp(2*x**2)*exp(2*y**2) + 4*exp(2*x**2)*exp(2*y**2)"
       ]
      }
     ],
     "prompt_number": 15
    },
    {
     "cell_type": "markdown",
     "metadata": {},
     "source": [
      "Note that for any x, y that the determinant of the Hessian must be non-negative.  Therefore, the Hessian for $f$ is semi-positive definite, and it therefore follows that $f$ must be convex."
     ]
    },
    {
     "cell_type": "code",
     "collapsed": false,
     "input": [
      "import scipy \n",
      "from scipy import optimize as opt\n",
      "\n",
      "def f(X):\n",
      "    return np.exp(X[0]**2+X[1]**2)\n",
      "\n",
      "opt.minimize(f, (1,1))\n"
     ],
     "language": "python",
     "metadata": {},
     "outputs": [
      {
       "metadata": {},
       "output_type": "pyout",
       "prompt_number": 16,
       "text": [
        "   status: 0\n",
        "  success: True\n",
        "     njev: 10\n",
        "     nfev: 40\n",
        " hess_inv: array([[ 0.750, -0.250],\n",
        "       [-0.250,  0.750]])\n",
        "      fun: 1.0000000000000018\n",
        "        x: array([-0.000, -0.000])\n",
        "  message: 'Optimization terminated successfully.'\n",
        "      jac: array([-0.000, -0.000])"
       ]
      }
     ],
     "prompt_number": 16
    },
    {
     "cell_type": "code",
     "collapsed": false,
     "input": [
      "cons = ({'type': 'eq',\n",
      "         'fun' : lambda x: np.array([x[0] + x[1] - 3]),\n",
      "         'jac' : lambda x: np.array([1.0, 1.0])})\n",
      "\n",
      "opt.minimize(f, (1, 1), constraints=cons)\n"
     ],
     "language": "python",
     "metadata": {},
     "outputs": [
      {
       "metadata": {},
       "output_type": "pyout",
       "prompt_number": 17,
       "text": [
        "  status: 0\n",
        " success: True\n",
        "    njev: 7\n",
        "    nfev: 34\n",
        "     fun: 90.017131300521896\n",
        "       x: array([ 1.500,  1.500])\n",
        " message: 'Optimization terminated successfully.'\n",
        "     jac: array([ 270.051,  270.051,  0.000])\n",
        "     nit: 7"
       ]
      }
     ],
     "prompt_number": 17
    },
    {
     "cell_type": "markdown",
     "metadata": {},
     "source": [
      "**Question 4 (10 points)**.\n",
      "\n",
      "A milkmaid is at point A and needs to get to point B. However, she also needs to fill a pail of water from the river en route from A to B. The equation of the river's path is shown in the figure below. What is the minimum distance she has to travel to do this?\n",
      "\n",
      "1. Solve using `scipy.optimize` and constrained minimization.\n",
      "2. Solve without using `scipy.optimize`. Hint: Use Lagrange \n",
      "\n",
      "![Milkmaid problem](milkmaid.png)"
     ]
    },
    {
     "cell_type": "code",
     "collapsed": false,
     "input": [
      "def milk(X):\n",
      "    return np.sqrt((X[0]-2)**2 + (X[1]-8)**2) + np.sqrt((X[0]-8)**2 + (X[1]-4)**2)\n",
      "\n",
      "cons = ({'type': 'eq',\n",
      "         'fun' : lambda x: np.array([x[0]*x[1] + x[1] - 10.0]),\n",
      "         'jac' : lambda x: np.array([x[1], x[0] + 1.0])})\n",
      "\n",
      "opt.minimize(milk, (3.0, 2.5), constraints=cons)"
     ],
     "language": "python",
     "metadata": {},
     "outputs": [
      {
       "metadata": {},
       "output_type": "pyout",
       "prompt_number": 18,
       "text": [
        "  status: 0\n",
        " success: True\n",
        "    njev: 27\n",
        "    nfev: 143\n",
        "     fun: 9.9633983104065642\n",
        "       x: array([ 0.532,  6.526])\n",
        " message: 'Optimization terminated successfully.'\n",
        "     jac: array([-1.653, -0.388,  0.000])\n",
        "     nit: 27"
       ]
      }
     ],
     "prompt_number": 18
    },
    {
     "cell_type": "code",
     "collapsed": false,
     "input": [
      "from sympy.functions import sqrt\n",
      "from sympy import *\n",
      "\n",
      "x, y = symbols('x y')\n",
      "lam = symbols('lam')\n",
      "f = symbols('f', cls=Function)\n",
      "g = symbols('g', cls=Function)\n",
      "\n",
      "f = sqrt((x-2)**2 + (y-8)**2) + sqrt((x-8)**2 + (y-4)**2)\n",
      "g = x*y + y - 10\n",
      "\n",
      "del_f = [sympy.diff(f,var) for var in [x,y]]\n",
      "del_g = [sympy.diff(lam*g,var) for var in [x,y]]\n",
      "\n",
      "print del_f\n",
      "print del_g\n",
      "#print nsolve((del_f[0] - lam*del_g[0], del_f[1] - lam*del_g[1], g),(x,y,lam), (0.53,6.5,0.1))"
     ],
     "language": "python",
     "metadata": {},
     "outputs": [
      {
       "output_type": "stream",
       "stream": "stdout",
       "text": [
        "[(x - 8)/sqrt((x - 8)**2 + (y - 4)**2) + (x - 2)/sqrt((x - 2)**2 + (y - 8)**2), (y - 8)/sqrt((x - 2)**2 + (y - 8)**2) + (y - 4)/sqrt((x - 8)**2 + (y - 4)**2)]\n",
        "[lam*y, lam*(x + 1)]\n"
       ]
      }
     ],
     "prompt_number": 19
    },
    {
     "cell_type": "code",
     "collapsed": false,
     "input": [],
     "language": "python",
     "metadata": {},
     "outputs": [],
     "prompt_number": 19
    },
    {
     "cell_type": "markdown",
     "metadata": {},
     "source": [
      "**Question 5 (10 points)**. \n",
      "\n",
      "Find the minimum of the following quadratic function on $\\mathbb{R}^4$ \n",
      "\n",
      "$$f(x) = x^TAx +b^Tx +c$$\n",
      "where\n",
      "$$A = \\left(\\begin{matrix}13&5&0&0\\\\5&7&0&0\\\\0&0&20&-7\\\\0&0&-7&12\\end{matrix}\\right), b = \\left(\\begin{matrix}1\\\\1\\\\1\\\\1\\end{matrix}\\right) \\textrm {and } c = 2$$\n",
      "\n",
      "and $x$ is a column vector.\n",
      "\n",
      "a. Using scipy.optimize (4 points)\n",
      "\n",
      "b. Using a matrix decomposition method (library functions - no need to code your own).  Note: for full credit you should exploit matrix structure. (4 points)\n",
      "\n",
      "c. Find the minimum under the constraint $||x||^2 = 1$ (i.e. on the unit sphere in $\\mathbb{R}^4$). (2 points)\n",
      "\n",
      "**Note: Do not be overly concerned if your values for $x$ at the minimum do not match exactly **\n"
     ]
    },
    {
     "cell_type": "code",
     "collapsed": false,
     "input": [
      "def f5(X):\n",
      "    A = np.array([[13,5,0,0],[5,7,0,0],[0,0,20,-7],[0,0,-7,12]])\n",
      "    b = np.array([[1,1,1,1]])\n",
      "    c = 2\n",
      "\n",
      "    return (np.dot(X.T,np.dot(A,X)) + np.dot(b, X) + c)[0]\n",
      "\n",
      "opt.minimize(f5,np.array([1,1,1,1]))"
     ],
     "language": "python",
     "metadata": {},
     "outputs": [
      {
       "metadata": {},
       "output_type": "pyout",
       "prompt_number": 20,
       "text": [
        "   status: 0\n",
        "  success: True\n",
        "     njev: 9\n",
        "     nfev: 54\n",
        " hess_inv: array([[ 0.250, -0.407,  0.035,  0.051],\n",
        "       [-0.407,  0.788, -0.065, -0.094],\n",
        "       [ 0.035, -0.065,  0.038,  0.027],\n",
        "       [ 0.051, -0.094,  0.027,  0.065]])\n",
        "      fun: 1.9019117880374428\n",
        "        x: array([-0.015, -0.061, -0.050, -0.071])\n",
        "  message: 'Optimization terminated successfully.'\n",
        "      jac: array([ 0.000,  0.000,  0.000,  0.000])"
       ]
      }
     ],
     "prompt_number": 20
    },
    {
     "cell_type": "code",
     "collapsed": false,
     "input": [
      "A = np.array([[13,5,0,0],[5,7,0,0],[0,0,20,-7],[0,0,-7,12]])\n",
      "b = np.array([[1,1,1,1]])\n",
      "c = 2\n",
      "\n",
      "np.dot(la.inv(A),-0.5*b.T)[:,0]"
     ],
     "language": "python",
     "metadata": {},
     "outputs": [
      {
       "metadata": {},
       "output_type": "pyout",
       "prompt_number": 21,
       "text": [
        "array([-0.015, -0.061, -0.050, -0.071])"
       ]
      }
     ],
     "prompt_number": 21
    },
    {
     "cell_type": "code",
     "collapsed": false,
     "input": [
      "cons = ({'type': 'eq',\n",
      "         'fun' : lambda x: np.array([x[0]**2 + x[1]**2 + x[2]**2 + x[3]**2 - 1]),\n",
      "         'jac' : lambda x: np.array([2*x[0], 2*x[1], 2*x[2], 2*x[3]])})\n",
      "\n",
      "opt.minimize(f5, (0.5, 0.5, 0.0, 0.0), constraints=cons)"
     ],
     "language": "python",
     "metadata": {},
     "outputs": [
      {
       "metadata": {},
       "output_type": "pyout",
       "prompt_number": 22,
       "text": [
        "  status: 0\n",
        " success: True\n",
        "    njev: 10\n",
        "    nfev: 67\n",
        "     fun: 6.3738593887997759\n",
        "       x: array([-0.534,  0.823, -0.104, -0.161])\n",
        " message: 'Optimization terminated successfully.'\n",
        "     jac: array([-4.662,  7.182, -0.907, -1.401,  0.000])\n",
        "     nit: 10"
       ]
      }
     ],
     "prompt_number": 22
    },
    {
     "cell_type": "markdown",
     "metadata": {},
     "source": [
      "**Question 6 (10 points)**.\n",
      "\n",
      "Given the set of vectors\n",
      "\n",
      "```\n",
      "v1 = np.array([1,2,3])\n",
      "v2 = np.array([2,4,7])\n",
      "v3 = np.array([1,0,1])\n",
      "```\n",
      "\n",
      "1. Calculate the pairwise Euclidean distance matrix using nested for loops. (2 points)\n",
      "2. Calculate the pairwise Euclidean distance matrix using numpy broadcasting. (3 points)\n",
      "3. Find an orthogonal basis for the space spanned by these vectors without using any functions from `numpy.linag` or `scipy.linalg` (5 points)"
     ]
    },
    {
     "cell_type": "code",
     "collapsed": false,
     "input": [
      "v1 = np.array([1.,2.,3.])\n",
      "v2 = np.array([2.,4.,7.])\n",
      "v3 = np.array([1.,0.,1.])\n",
      "\n",
      "V = np.array([v1, v2, v3]).T\n",
      "\n",
      "ans1 = np.zeros((3,3))\n",
      "\n",
      "for i in range(3):\n",
      "    for j in range(3):\n",
      "        ans1[i,j] = la.norm(V[:,i]-V[:,j])\n",
      "        \n",
      "print ans1"
     ],
     "language": "python",
     "metadata": {},
     "outputs": [
      {
       "output_type": "stream",
       "stream": "stdout",
       "text": [
        "[[ 0.000  4.583  2.828]\n",
        " [ 4.583  0.000  7.280]\n",
        " [ 2.828  7.280  0.000]]\n"
       ]
      }
     ],
     "prompt_number": 23
    },
    {
     "cell_type": "code",
     "collapsed": false,
     "input": [
      "def euclidean_dist(u, v, axis=-1):\n",
      "    return np.sqrt(((u-v)**2).sum(axis))\n",
      "\n",
      "ans2 = euclidean_dist(V[:,None,:], V[:,:,None],axis=0)\n",
      "\n",
      "print ans2"
     ],
     "language": "python",
     "metadata": {},
     "outputs": [
      {
       "output_type": "stream",
       "stream": "stdout",
       "text": [
        "[[ 0.000  4.583  2.828]\n",
        " [ 4.583  0.000  7.280]\n",
        " [ 2.828  7.280  0.000]]\n"
       ]
      }
     ],
     "prompt_number": 24
    },
    {
     "cell_type": "code",
     "collapsed": false,
     "input": [
      "# Use Gram-Schmidt?\n",
      "e1 = V[:,0]\n",
      "e2 = V[:,1] - (np.dot(V[:,1],e1)/np.dot(e1,e1)) * e1\n",
      "e3 = V[:,2] - (np.dot(V[:,2],e1)/np.dot(e1,e1)) * e1 - (np.dot(V[:,2],e2)/np.dot(e2,e2)) * e2\n",
      "\n",
      "E = np.array([e1,e2,e3]).T\n",
      "\n",
      "print E"
     ],
     "language": "python",
     "metadata": {},
     "outputs": [
      {
       "output_type": "stream",
       "stream": "stdout",
       "text": [
        "[[ 1.000 -0.214  0.800]\n",
        " [ 2.000 -0.429 -0.400]\n",
        " [ 3.000  0.357  0.000]]\n"
       ]
      }
     ],
     "prompt_number": 25
    },
    {
     "cell_type": "code",
     "collapsed": false,
     "input": [],
     "language": "python",
     "metadata": {},
     "outputs": [],
     "prompt_number": 25
    },
    {
     "cell_type": "code",
     "collapsed": false,
     "input": [],
     "language": "python",
     "metadata": {},
     "outputs": []
    }
   ],
   "metadata": {}
  }
 ]
}