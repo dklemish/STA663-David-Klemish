{
 "metadata": {
  "name": "",
  "signature": "sha256:ba9d3663b1941a9c20b8d2bd857ea5593e6483fab82239ce0fdda82d25b1c2f2"
 },
 "nbformat": 3,
 "nbformat_minor": 0,
 "worksheets": [
  {
   "cells": [
    {
     "cell_type": "markdown",
     "metadata": {},
     "source": [
      "Computer lab 02\n",
      "----\n",
      "\n",
      "These exercises provide more practice in data manipulation and working with numpy arrays."
     ]
    },
    {
     "cell_type": "code",
     "collapsed": false,
     "input": [
      "import os\n",
      "import sys\n",
      "import glob\n",
      "import matplotlib.pyplot as plt\n",
      "import numpy as np\n",
      "import pandas as pd\n",
      "%matplotlib inline\n",
      "%precision 4\n",
      "plt.style.use('ggplot')"
     ],
     "language": "python",
     "metadata": {},
     "outputs": [],
     "prompt_number": 1
    },
    {
     "cell_type": "markdown",
     "metadata": {},
     "source": [
      "**Exercise 1 [10 pts]**. Write a 12 by 12 times table chart without explicit looping (i.e. no for, while or comprehensions). Your code should generate this output:\n",
      "\n",
      "```python\n",
      "[[  1   2   3   4   5   6   7   8   9  10  11  12]\n",
      " [  2   4   6   8  10  12  14  16  18  20  22  24]\n",
      " [  3   6   9  12  15  18  21  24  27  30  33  36]\n",
      " [  4   8  12  16  20  24  28  32  36  40  44  48]\n",
      " [  5  10  15  20  25  30  35  40  45  50  55  60]\n",
      " [  6  12  18  24  30  36  42  48  54  60  66  72]\n",
      " [  7  14  21  28  35  42  49  56  63  70  77  84]\n",
      " [  8  16  24  32  40  48  56  64  72  80  88  96]\n",
      " [  9  18  27  36  45  54  63  72  81  90  99 108]\n",
      " [ 10  20  30  40  50  60  70  80  90 100 110 120]\n",
      " [ 11  22  33  44  55  66  77  88  99 110 121 132]\n",
      " [ 12  24  36  48  60  72  84  96 108 120 132 144]]\n",
      "```"
     ]
    },
    {
     "cell_type": "code",
     "collapsed": false,
     "input": [
      "# Your code here\n",
      "nums = np.arange(1,13,1)\n",
      "chart = nums[:, np.newaxis] * nums[np.newaxis,:]\n",
      "print chart"
     ],
     "language": "python",
     "metadata": {},
     "outputs": [
      {
       "output_type": "stream",
       "stream": "stdout",
       "text": [
        "[[  1   2   3   4   5   6   7   8   9  10  11  12]\n",
        " [  2   4   6   8  10  12  14  16  18  20  22  24]\n",
        " [  3   6   9  12  15  18  21  24  27  30  33  36]\n",
        " [  4   8  12  16  20  24  28  32  36  40  44  48]\n",
        " [  5  10  15  20  25  30  35  40  45  50  55  60]\n",
        " [  6  12  18  24  30  36  42  48  54  60  66  72]\n",
        " [  7  14  21  28  35  42  49  56  63  70  77  84]\n",
        " [  8  16  24  32  40  48  56  64  72  80  88  96]\n",
        " [  9  18  27  36  45  54  63  72  81  90  99 108]\n",
        " [ 10  20  30  40  50  60  70  80  90 100 110 120]\n",
        " [ 11  22  33  44  55  66  77  88  99 110 121 132]\n",
        " [ 12  24  36  48  60  72  84  96 108 120 132 144]]\n"
       ]
      }
     ],
     "prompt_number": 2
    },
    {
     "cell_type": "markdown",
     "metadata": {},
     "source": [
      "**Exercise 2 [10 pts]**. Create a new matrix that normalizes the given matrix so that all *columns* sum to 1.0 without using any loops. Create another matrix so that all *rows* sum to 1.0. In other words, if the 3 matrices were `xs` (given), `ys` (column normalized) and `zs` (row normalized), we would have \n",
      "\n",
      "`ys.sum(axis=0)` = `[ 1.,  1.,  1.,  1.,  1.,  1.]` \n",
      "\n",
      "and \n",
      "\n",
      "`zs.sum(axis=1)` = `[ 1.,  1.,  1.,  1.]`\n",
      "\n",
      "Start by creating the following matrix `xs`\n",
      "```python\n",
      "[[  1.   2.   3.   4.   5.   6.]\n",
      " [  7.   8.   9.  10.  11.  12.]\n",
      " [ 13.  14.  15.  16.  17.  18.]\n",
      " [ 19.  20.  21.  22.  23.  24.]]\n",
      "```"
     ]
    },
    {
     "cell_type": "code",
     "collapsed": false,
     "input": [
      "# Your code here\n",
      "xs = np.arange(1.,20,6)[:,np.newaxis] + np.arange(0.,6,1)\n",
      "def col_norm(x):\n",
      "    return x / x.sum(axis=0)\n",
      "\n",
      "def row_norm(x):\n",
      "    return x / x.sum(axis=1)[:,np.newaxis]\n",
      "\n",
      "ys = col_norm(xs)\n",
      "zs = row_norm(xs)\n",
      "#zs = (xs.T / xs.T.sum(axis=0)).T\n",
      "\n",
      "print xs, '\\n'\n",
      "print ys, '\\n'\n",
      "print zs, '\\n'\n",
      "\n",
      "print(\"ys.sum(axis=0) = \"+str(ys.sum(axis=0)))\n",
      "print(\"zs.sum(axis=1) = \"+str(zs.sum(axis=1)))"
     ],
     "language": "python",
     "metadata": {},
     "outputs": [
      {
       "output_type": "stream",
       "stream": "stdout",
       "text": [
        "[[  1.   2.   3.   4.   5.   6.]\n",
        " [  7.   8.   9.  10.  11.  12.]\n",
        " [ 13.  14.  15.  16.  17.  18.]\n",
        " [ 19.  20.  21.  22.  23.  24.]] \n",
        "\n",
        "[[ 0.025   0.0455  0.0625  0.0769  0.0893  0.1   ]\n",
        " [ 0.175   0.1818  0.1875  0.1923  0.1964  0.2   ]\n",
        " [ 0.325   0.3182  0.3125  0.3077  0.3036  0.3   ]\n",
        " [ 0.475   0.4545  0.4375  0.4231  0.4107  0.4   ]] \n",
        "\n",
        "[[ 0.0476  0.0952  0.1429  0.1905  0.2381  0.2857]\n",
        " [ 0.1228  0.1404  0.1579  0.1754  0.193   0.2105]\n",
        " [ 0.1398  0.1505  0.1613  0.172   0.1828  0.1935]\n",
        " [ 0.1473  0.155   0.1628  0.1705  0.1783  0.186 ]] \n",
        "\n",
        "ys.sum(axis=0) = [ 1.  1.  1.  1.  1.  1.]\n",
        "zs.sum(axis=1) = [ 1.  1.  1.  1.]\n"
       ]
      }
     ],
     "prompt_number": 3
    },
    {
     "cell_type": "markdown",
     "metadata": {},
     "source": [
      "**Exercise 3 [10 pts]**. In this exercise, we will practice using Pandas dataframes to explore and summarize a data set `heart`.\n",
      "\n",
      "This data contains the survival time after receiving a heart transplant, the age of the patient and whether or not the survival time was censored.\n",
      "\n",
      "- Number of Observations - 69\n",
      "- Number of Variables - 3\n",
      "\n",
      "Variable name definitions::\n",
      "\n",
      "- survival - Days after surgery until death\n",
      "- censors - indicates if an observation is censored. 1 is uncensored\n",
      "- age - age at the time of surgery\n",
      "\n",
      "Answer the following questions with respect to the `heart` data set:\n",
      "\n",
      "- How many patients were censored?\n",
      "- What is the correlation coefficient between age and survival for uncensored patients?\n",
      "- What is the average age for censored and uncensored patients?\n",
      "- What is the average survival time for censored and uncensored patients under the age of 45?\n",
      "- What is the survival time of the youngest and oldest uncensored patient?"
     ]
    },
    {
     "cell_type": "code",
     "collapsed": false,
     "input": [
      "import statsmodels.api as sm\n",
      "heart = sm.datasets.heart.load_pandas().data\n",
      "\n",
      "heart.head(n=6)"
     ],
     "language": "python",
     "metadata": {},
     "outputs": [
      {
       "html": [
        "<div style=\"max-height:1000px;max-width:1500px;overflow:auto;\">\n",
        "<table border=\"1\" class=\"dataframe\">\n",
        "  <thead>\n",
        "    <tr style=\"text-align: right;\">\n",
        "      <th></th>\n",
        "      <th>survival</th>\n",
        "      <th>censors</th>\n",
        "      <th>age</th>\n",
        "    </tr>\n",
        "  </thead>\n",
        "  <tbody>\n",
        "    <tr>\n",
        "      <th>0</th>\n",
        "      <td>  15</td>\n",
        "      <td> 1</td>\n",
        "      <td> 54.3</td>\n",
        "    </tr>\n",
        "    <tr>\n",
        "      <th>1</th>\n",
        "      <td>   3</td>\n",
        "      <td> 1</td>\n",
        "      <td> 40.4</td>\n",
        "    </tr>\n",
        "    <tr>\n",
        "      <th>2</th>\n",
        "      <td> 624</td>\n",
        "      <td> 1</td>\n",
        "      <td> 51.0</td>\n",
        "    </tr>\n",
        "    <tr>\n",
        "      <th>3</th>\n",
        "      <td>  46</td>\n",
        "      <td> 1</td>\n",
        "      <td> 42.5</td>\n",
        "    </tr>\n",
        "    <tr>\n",
        "      <th>4</th>\n",
        "      <td> 127</td>\n",
        "      <td> 1</td>\n",
        "      <td> 48.0</td>\n",
        "    </tr>\n",
        "    <tr>\n",
        "      <th>5</th>\n",
        "      <td>  64</td>\n",
        "      <td> 1</td>\n",
        "      <td> 54.6</td>\n",
        "    </tr>\n",
        "  </tbody>\n",
        "</table>\n",
        "</div>"
       ],
       "metadata": {},
       "output_type": "pyout",
       "prompt_number": 4,
       "text": [
        "   survival  censors   age\n",
        "0        15        1  54.3\n",
        "1         3        1  40.4\n",
        "2       624        1  51.0\n",
        "3        46        1  42.5\n",
        "4       127        1  48.0\n",
        "5        64        1  54.6"
       ]
      }
     ],
     "prompt_number": 4
    },
    {
     "cell_type": "code",
     "collapsed": false,
     "input": [
      "import statsmodels.api as sm\n",
      "heart = sm.datasets.heart.load_pandas().data\n",
      "# Your code here\n",
      "\n",
      "# num_censored    = heart[heart.censors==1].shape[0]\n",
      "# num_censored    = heart.groupby(['censors']).size()[1]\n",
      "# corr_uncensored = np.corrcoef(heart[heart.censors==0].age,heart[heart.censors==0].survival)[0,1]\n",
      "\n",
      "num_censored    = len(heart[heart.censors==1])\n",
      "corr_uncensored = heart[heart.censors==0].corr().iat[0,2]\n",
      "av_age          = heart.groupby(['censors'])['age'].mean()\n",
      "av_survival     = heart[heart.age < 45.0].groupby(['censors'])['survival'].mean()\n",
      "surv_min_max    = [heart[heart.age==min(heart[heart.censors==0].age)]['survival'].tolist()[0], \n",
      "                   heart[heart.age==max(heart[heart.censors==0].age)]['survival'].tolist()[0]]\n",
      "\n",
      "print \"Number of censored patients = \", num_censored, '\\n'\n",
      "print \"Correlation coefficient     = \", corr_uncensored, '\\n'\n",
      "print \"Average age by censoring    = \", av_age, '\\n'\n",
      "print \"Average survival time by censoring for patients under 45 = \", av_survival, '\\n'\n",
      "print \"Survival time for youngest and oldest uncensored patients = \", surv_min_max, '\\n'\n"
     ],
     "language": "python",
     "metadata": {},
     "outputs": [
      {
       "output_type": "stream",
       "stream": "stdout",
       "text": [
        "Number of censored patients =  45 \n",
        "\n",
        "Correlation coefficient     =  0.0941321736793 \n",
        "\n",
        "Average age by censoring    =  censors\n",
        "0          41.729167\n",
        "1          48.484444\n",
        "Name: age, dtype: float64 \n",
        "\n",
        "Average survival time by censoring for patients under 45 =  censors\n",
        "0          712.818182\n",
        "1          169.909091\n",
        "Name: survival, dtype: float64 \n",
        "\n",
        "Survival time for youngest and oldest uncensored patients =  [110.0, 339.0] \n",
        "\n"
       ]
      }
     ],
     "prompt_number": 5
    },
    {
     "cell_type": "markdown",
     "metadata": {},
     "source": [
      "**Exercise 4 [20 pts]**. Normalize the given matrix $M$ so that all rows sum to 1.0 (as in Exercise 2). This can then be considered as a transition matrix $P$ for a Markov chain. Find the stationary distribution of this matrix in the following ways using `numpy` and `numpy.linalg` (or `scipy.linalg`):\n",
      "\n",
      "- By repeated matrix multiplication of a random probabilty vector $v$ (a row vector normalized to sum to 1.0) with $P$ using matrix multiplication with `np.dot`.\n",
      "- By raising the matrix $P$ to some large power unitl it doesn't change with higher powers (see `np.linalg.matrix_power`) and then calculating $vP$\n",
      "- From the equation for stationarity $wP = w$, we can see that $w$ must be a left eigenvector of $P$ with eigenvalue $1$ (Note: np.linalg.eig returns the right eigenvectors, but the left eighenvector of a matrix is the right eigenvector of the transposed matrix). Use this to find $w$ using `np.linalg.eig`.\n",
      "- Suppose $w = (w_1, w_2, w_3)$. Then from $wP = w$, we have:\n",
      "\\begin{align}\n",
      "w_1 P_{11} + w_2 P_{21} + w_3 P_{31} &= w_1 \\\\\n",
      "w_1 P_{12} + w_2 P_{22} + w_3 P_{32} &= w_2 \\\\\n",
      "w_1 P_{13} + w_2 P_{23} + w_3 P_{331} &= w_3 \\\\\n",
      "\\end{align}\n",
      "This is a singular system, but we also know that $w_1 + w_2 + w_3 = 1$. Use these facts to set up a linear system of equations that can be solved with `np.linalg.solve` to find $w$.\n",
      "\n",
      "Given matrix $M$\n",
      "```python\n",
      "      [[7, 8, 8],\n",
      "       [1, 3, 8],\n",
      "       [9, 2, 1]]\n",
      "```"
     ]
    },
    {
     "cell_type": "code",
     "collapsed": false,
     "input": [
      "# Your code here\n",
      "import numpy.random as rand\n",
      "import scipy.linalg as la\n",
      "\n",
      "M = np.array([7,8,8,1,3,8,9,2,1]).reshape(3,3)\n",
      "v = rand.dirichlet((10,5,3))\n",
      "\n",
      "M = M.astype('float32')\n",
      "P  = row_norm(M)\n",
      "\n",
      "# Method 1\n",
      "v1 = v\n",
      "for i in range(1,100):\n",
      "    v1 = np.dot(v1,P)\n",
      "print 'Method 1\\n', v1, '\\n', \"Sum is: \", sum(v1), '\\n'\n",
      "\n",
      "# Method 2\n",
      "P2 = np.linalg.matrix_power(P,100)\n",
      "v2 = np.dot(v,P2)\n",
      "print 'Method 2\\n', v2, '\\n', \"Sum is: \", sum(v2), '\\n'\n",
      "\n",
      "#Method 3\n",
      "eigval, eigvec = np.linalg.eig(P.T)\n",
      "v3 = eigvec[:,eigval==1.0].real.T[0]/sum(eigvec[:,eigval==1.0].real)\n",
      "print 'Method 3\\n', v3, '\\n', \"Sum is: \", sum(v3), '\\n'\n",
      "\n",
      "#Method 4\n",
      "#Since w1 + w2 + w3 == 1, add appropriate w1, w2, w3 to both sides of\n",
      "# the linear system so that the RHS == w1 + w2 + w3 == 1, and then \n",
      "# solve the linear system of equations\n",
      "\n",
      "adj = np.array([0,1,1,1,0,1,1,1,0]).reshape(3,3)\n",
      "ones = np.array([1,1,1]).reshape(1,3)\n",
      "\n",
      "v4 = np.linalg.solve((P+adj).T,ones).T[1]\n",
      "print 'Method 4\\n', v4, '\\n', \"Sum is: \", sum(v4)"
     ],
     "language": "python",
     "metadata": {},
     "outputs": [
      {
       "output_type": "stream",
       "stream": "stdout",
       "text": [
        "Method 1\n",
        "[ 0.3986  0.2606  0.3408] \n",
        "Sum is:  1.00000082997 \n",
        "\n",
        "Method 2\n",
        "[ 0.3986  0.2606  0.3408] \n",
        "Sum is:  0.999999520694 \n",
        "\n",
        "Method 3\n",
        "[ 0.3986  0.2606  0.3408] \n",
        "Sum is:  1.0 \n",
        "\n",
        "Method 4\n",
        "[ 0.3986  0.2606  0.3408] \n",
        "Sum is:  0.999999997212\n"
       ]
      }
     ],
     "prompt_number": 6
    },
    {
     "cell_type": "code",
     "collapsed": false,
     "input": [],
     "language": "python",
     "metadata": {},
     "outputs": []
    }
   ],
   "metadata": {}
  }
 ]
}