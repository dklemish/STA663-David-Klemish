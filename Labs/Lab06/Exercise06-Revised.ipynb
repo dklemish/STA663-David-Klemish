{
 "metadata": {
  "name": "",
  "signature": "sha256:428fbb732f02fd73191e8d39eb630d2447c76427107346cbed7ab0cbbb40c581"
 },
 "nbformat": 3,
 "nbformat_minor": 0,
 "worksheets": [
  {
   "cells": [
    {
     "cell_type": "code",
     "collapsed": false,
     "input": [
      "from __future__ import division\n",
      "\n",
      "import os\n",
      "import sys\n",
      "import glob\n",
      "import matplotlib.pyplot as plt\n",
      "import numpy as np\n",
      "import pandas as pd\n",
      "import scipy as sc\n",
      "\n",
      "%matplotlib inline\n",
      "%precision 4\n",
      "plt.style.use('ggplot')"
     ],
     "language": "python",
     "metadata": {},
     "outputs": [],
     "prompt_number": 1
    },
    {
     "cell_type": "code",
     "collapsed": false,
     "input": [
      "import scipy.optimize as opt\n",
      "import scipy.stats as stats\n",
      "import scipy.linalg as la\n",
      "from IPython.display import Image"
     ],
     "language": "python",
     "metadata": {},
     "outputs": [],
     "prompt_number": 2
    },
    {
     "cell_type": "markdown",
     "metadata": {},
     "source": [
      "**Exercise 1 (10 points)**.\n",
      "\n",
      "A milkmaid is at point A and needs to get to point B. However, she also needs to fill a pail of water from the river en route from A to B. The equation of the river's path is shown in the figure below. \n",
      "\n",
      "- What is the minimum distance she has to travel to do this?\n",
      "- Modify the code below so that the path taken by the milkmaid is shown as a dashed line.\n",
      "\n",
      "```\n",
      "x = np.linspace(0, 10, 100)\n",
      "plt.xlim([0, 10])\n",
      "plt.plot(x, 10.0/(1+x), 'b', linewidth=5)\n",
      "plt.scatter([2,8], [8,4], c=[0,1], s=100)\n",
      "plt.text(8, 5, 'B (8,4)', fontsize=16)\n",
      "plt.text(2, 9, 'A (2,8)', fontsize=16)\n",
      "plt.text(0.5, 2, 'River', fontsize=16)\n",
      "plt.text(0.5, 0.5, 'g(x y) = y - 10/(1+x)', fontsize=16);\n",
      "```"
     ]
    },
    {
     "cell_type": "markdown",
     "metadata": {},
     "source": [
      "The objective function to minimize is the sum of two Euclidean distance functions, one from $A$ to $(x_{min}, y_{min})$ and the other from $B$ to $(x_{min}, y_{min})$.  This must be subject to the constraint that $(x_{min}, y_{min})$ lies on the function $g(x,y)$."
     ]
    },
    {
     "cell_type": "code",
     "collapsed": false,
     "input": [
      "def milk(X):\n",
      "    return np.sqrt((X[0]-2)**2 + (X[1]-8)**2) + np.sqrt((X[0]-8)**2 + (X[1]-4)**2)\n",
      "\n",
      "cons = ({'type': 'eq',\n",
      "         'fun' : lambda x: np.array([x[0]*x[1] + x[1] - 10.0]),\n",
      "         'jac' : lambda x: np.array([x[1], x[0] + 1.0])})\n",
      "\n",
      "opt.minimize(milk, (3.0, 2.5), constraints=cons)"
     ],
     "language": "python",
     "metadata": {},
     "outputs": [
      {
       "metadata": {},
       "output_type": "pyout",
       "prompt_number": 3,
       "text": [
        "  status: 0\n",
        " success: True\n",
        "    njev: 27\n",
        "    nfev: 143\n",
        "     fun: 9.9633983104065642\n",
        "       x: array([ 0.5323,  6.5263])\n",
        " message: 'Optimization terminated successfully.'\n",
        "     jac: array([-1.6529, -0.3881,  0.    ])\n",
        "     nit: 27"
       ]
      }
     ],
     "prompt_number": 3
    },
    {
     "cell_type": "markdown",
     "metadata": {},
     "source": [
      "The minimal distance of 9.963 is achieved by traveling from $A$ to $(0.5323, 6.5263)$ before traveling to $B$."
     ]
    },
    {
     "cell_type": "code",
     "collapsed": false,
     "input": [
      "# Slope and intercept of first line segment\n",
      "m1 = (8-6.5263)/(2-0.5323)\n",
      "b1 = 8 - m1*2\n",
      "\n",
      "# Slope and intercept of second line segment\n",
      "m2 = (4-6.5263)/(8-0.5323)\n",
      "b2 = 4 - m2*8\n",
      "\n",
      "\n",
      "x = np.linspace(0, 10, 100)\n",
      "# Added next two lines\n",
      "x1 = np.linspace(0.5323, 2)\n",
      "x2 = np.linspace(0.5323, 8)\n",
      "\n",
      "plt.xlim([0, 10])\n",
      "plt.plot(x, 10.0/(1+x), 'b', linewidth=5)\n",
      "\n",
      "# Added next two lines\n",
      "plt.plot(x1, m1*x1+b1, 'r', ls='--')\n",
      "plt.plot(x2, m2*x2+b2, 'r', ls='--')\n",
      "\n",
      "plt.scatter([2,8], [8,4], c=[0,1], s=100)\n",
      "plt.text(8, 5, 'B (8,4)', fontsize=16)\n",
      "plt.text(2, 9, 'A (2,8)', fontsize=16)\n",
      "plt.text(0.5, 2, 'River', fontsize=16)\n",
      "plt.text(0.5, 0.5, 'g(x y) = y - 10/(1+x)', fontsize=16);"
     ],
     "language": "python",
     "metadata": {},
     "outputs": [
      {
       "metadata": {},
       "output_type": "display_data",
       "png": "[encoded data removed]",
       "text": [
        "<matplotlib.figure.Figure at 0x7fae264db350>"
       ]
      }
     ],
     "prompt_number": 4
    },
    {
     "cell_type": "markdown",
     "metadata": {},
     "source": [
      "**Exercise 2 (10 points)**.\n",
      "\n",
      "You are given 5 samples of 100 rolls of a die. The die is chosen at random from one of two dice, either of which may be biased. Given the following counts, estimate the parameters for each die (i.e. the probabilites of getting a 1, 2, 3, 4, 5 or 6)."
     ]
    },
    {
     "cell_type": "code",
     "collapsed": false,
     "input": [
      "df = pd.read_csv('dice.csv', index_col=0)\n",
      "df"
     ],
     "language": "python",
     "metadata": {},
     "outputs": [
      {
       "html": [
        "<div style=\"max-height:1000px;max-width:1500px;overflow:auto;\">\n",
        "<table border=\"1\" class=\"dataframe\">\n",
        "  <thead>\n",
        "    <tr style=\"text-align: right;\">\n",
        "      <th></th>\n",
        "      <th>1</th>\n",
        "      <th>2</th>\n",
        "      <th>3</th>\n",
        "      <th>4</th>\n",
        "      <th>5</th>\n",
        "      <th>6</th>\n",
        "    </tr>\n",
        "  </thead>\n",
        "  <tbody>\n",
        "    <tr>\n",
        "      <th>Sample 1</th>\n",
        "      <td>  2</td>\n",
        "      <td> 14</td>\n",
        "      <td> 10</td>\n",
        "      <td> 20</td>\n",
        "      <td> 26</td>\n",
        "      <td> 28</td>\n",
        "    </tr>\n",
        "    <tr>\n",
        "      <th>Sample 2</th>\n",
        "      <td>  1</td>\n",
        "      <td> 13</td>\n",
        "      <td> 12</td>\n",
        "      <td> 17</td>\n",
        "      <td> 21</td>\n",
        "      <td> 36</td>\n",
        "    </tr>\n",
        "    <tr>\n",
        "      <th>Sample 3</th>\n",
        "      <td> 21</td>\n",
        "      <td> 18</td>\n",
        "      <td> 16</td>\n",
        "      <td> 12</td>\n",
        "      <td> 14</td>\n",
        "      <td> 19</td>\n",
        "    </tr>\n",
        "    <tr>\n",
        "      <th>Sample 4</th>\n",
        "      <td> 15</td>\n",
        "      <td> 20</td>\n",
        "      <td> 20</td>\n",
        "      <td> 15</td>\n",
        "      <td> 12</td>\n",
        "      <td> 18</td>\n",
        "    </tr>\n",
        "    <tr>\n",
        "      <th>Sample 5</th>\n",
        "      <td>  5</td>\n",
        "      <td> 10</td>\n",
        "      <td> 11</td>\n",
        "      <td> 24</td>\n",
        "      <td> 17</td>\n",
        "      <td> 33</td>\n",
        "    </tr>\n",
        "  </tbody>\n",
        "</table>\n",
        "</div>"
       ],
       "metadata": {},
       "output_type": "pyout",
       "prompt_number": 5,
       "text": [
        "           1   2   3   4   5   6\n",
        "Sample 1   2  14  10  20  26  28\n",
        "Sample 2   1  13  12  17  21  36\n",
        "Sample 3  21  18  16  12  14  19\n",
        "Sample 4  15  20  20  15  12  18\n",
        "Sample 5   5  10  11  24  17  33"
       ]
      }
     ],
     "prompt_number": 5
    },
    {
     "cell_type": "code",
     "collapsed": false,
     "input": [
      "thetas = np.array([np.repeat(1/6,6), \n",
      "                   [0.05, 0.05, 0.05, 0.05, 0.20, 0.60]])\n",
      "\n",
      "tol = 1e-6\n",
      "max_iter = 100\n",
      "\n",
      "ll_old = -np.infty\n",
      "for i in range(max_iter):\n",
      "    ll_A = np.sum(df * np.log(thetas[0]), axis=1)\n",
      "    ll_B = np.sum(df * np.log(thetas[1]), axis=1)\n",
      "    denom = np.exp(ll_A) + np.exp(ll_B)\n",
      "    \n",
      "    # w_X contains the probability that each sample comes from die X\n",
      "    w_A = np.exp(ll_A)/denom\n",
      "    w_B = np.exp(ll_B)/denom\n",
      "\n",
      "    # Calculate the ML estimate of the probability vector for each die\n",
      "    vs_A = w_A[:, None] * df\n",
      "    vs_B = w_B[:, None] * df\n",
      "    \n",
      "    thetas[0] = np.sum(vs_A, 0)/np.sum(np.sum(vs_A))\n",
      "    thetas[1] = np.sum(vs_B, 0)/np.sum(np.sum(vs_B))\n",
      "\n",
      "    ll_new = w_A.dot(ll_A) + w_B.dot(ll_B)\n",
      "\n",
      "    if np.abs(ll_new - ll_old) < tol:\n",
      "        break\n",
      "    ll_old = ll_new\n",
      "\n",
      "print 'The ML estimates of the probabilities for die 1 are:\\n', thetas[0]\n",
      "print\n",
      "print 'The ML estimates of the probabilities for die 2 are:\\n', thetas[1]\n",
      "print \n",
      "print 'The probability that each sample came from die 1 are:\\n', np.round(w_A,decimals=3)\n",
      "print \n",
      "print 'The probability that each sample came from die 2 are:\\n', np.round(w_B,decimals=3)\n"
     ],
     "language": "python",
     "metadata": {},
     "outputs": [
      {
       "output_type": "stream",
       "stream": "stdout",
       "text": [
        "The ML estimates of the probabilities for die 1 are:\n",
        "[ 0.18   0.19   0.18   0.135  0.13   0.185]\n",
        "\n",
        "The ML estimates of the probabilities for die 2 are:\n",
        "[ 0.0267  0.1233  0.11    0.2033  0.2133  0.3233]\n",
        "\n",
        "The probability that each sample came from die 1 are:\n",
        "Sample 1    0\n",
        "Sample 2    0\n",
        "Sample 3    1\n",
        "Sample 4    1\n",
        "Sample 5    0\n",
        "dtype: float64\n",
        "\n",
        "The probability that each sample came from die 2 are:\n",
        "Sample 1    1\n",
        "Sample 2    1\n",
        "Sample 3    0\n",
        "Sample 4    0\n",
        "Sample 5    1\n",
        "dtype: float64\n"
       ]
      }
     ],
     "prompt_number": 6
    },
    {
     "cell_type": "markdown",
     "metadata": {},
     "source": [
      "**Exercise 3 (10 points)**\n",
      "\n",
      "You have some data about the intervals between arrivals (in minutes) of customers to a bank. You want to know how many customers to expect from 9 AM to 5 PM. Simulate 1000 sequences of customer arrivals over an 8 hour period and esitmate the mean and variance. "
     ]
    },
    {
     "cell_type": "code",
     "collapsed": false,
     "input": [
      "from statsmodels.distributions.empirical_distribution import ECDF\n",
      "from scipy.interpolate import interp1d\n",
      "\n",
      "def extrap1d(interpolator):\n",
      "    \"\"\"From StackOverflow http://bit.ly/1BjyRfk\"\"\"\n",
      "    xs = interpolator.x\n",
      "    ys = interpolator.y\n",
      "\n",
      "    def pointwise(x):\n",
      "        if x < xs[0]:\n",
      "            return ys[0]+(x-xs[0])*(ys[1]-ys[0])/(xs[1]-xs[0])\n",
      "        elif x > xs[-1]:\n",
      "            return ys[-1]+(x-xs[-1])*(ys[-1]-ys[-2])/(xs[-1]-xs[-2])\n",
      "        else:\n",
      "            return interpolator(x)\n",
      "\n",
      "    def ufunclike(xs):\n",
      "        return np.array(map(pointwise, np.array(xs)))\n",
      "\n",
      "    return ufunclike\n",
      "\n",
      "\n",
      "data = np.loadtxt('arrival_intervals.txt')"
     ],
     "language": "python",
     "metadata": {},
     "outputs": [],
     "prompt_number": 7
    },
    {
     "cell_type": "code",
     "collapsed": false,
     "input": [
      "np.random.seed(1)\n",
      "\n",
      "def gen_arrivals(Data, num_samp, multiplier):\n",
      "    # Inputs:\n",
      "    #  Data = underlying arrival data\n",
      "    #  num_samp = number of desired samples\n",
      "    #  multiplier = factor multiplied by num_samp to determine \n",
      "    #    total draws of arrival times; done this way to avoid \n",
      "    #    looping over desired number of samples although \n",
      "    #    requires multiplier be large enough to generate the desired # of samples\n",
      "    ecdf = ECDF(Data)\n",
      "    num_points = len(data)\n",
      "    inv_cdf = extrap1d(interp1d(ecdf.y, ecdf.x, \n",
      "                            bounds_error=False, assume_sorted=True))\n",
      "\n",
      "    r = np.random.uniform(1/num_points, 1, num_samp*multiplier)\n",
      "    arrivals = inv_cdf(r)\n",
      "\n",
      "    # Calculate cumulative running sum of arrival times in units of 8 hours\n",
      "    total_time  = arrivals.cumsum() / 480\n",
      "    \n",
      "    # Convert cumulative times into number of 8 hour blocks filled\n",
      "    total_tries = np.array(map(int,np.floor(total_time)))\n",
      "    \n",
      "    # Read off the location of the first arrival for which each 8 hour block is filled\n",
      "    loc_arrival = [np.where(total_tries == i)[0] for i in range(max(total_tries))]\n",
      "    \n",
      "    # Take the difference of each location to determine # of arrivals necessary to \n",
      "    # fill the 8 hour block\n",
      "    num_arrival = np.diff([loc_arrival[j][0] for j in range(max(total_tries))])\n",
      "\n",
      "    return num_arrival[range(num_samp)]\n",
      "    \n",
      "day_arrivals = gen_arrivals(data,1000,40)\n",
      "\n",
      "print \"The mean number of arrivals in 8 hours is: \", np.mean(day_arrivals)\n",
      "print \"The variance of the number of arrivals in 8 hours is: \", np.var(day_arrivals)\n",
      "\n",
      "plt.hist(day_arrivals, 10, histtype='step', color='blue', normed=True, linewidth=1);"
     ],
     "language": "python",
     "metadata": {},
     "outputs": [
      {
       "output_type": "stream",
       "stream": "stdout",
       "text": [
        "The mean number of arrivals in 8 hours is:  34.048\n",
        "The variance of the number of arrivals in 8 hours is:  73.399696\n"
       ]
      },
      {
       "metadata": {},
       "output_type": "display_data",
       "png": "[encoded data removed]",
       "text": [
        "<matplotlib.figure.Figure at 0x7fae264346d0>"
       ]
      }
     ],
     "prompt_number": 8
    },
    {
     "cell_type": "code",
     "collapsed": false,
     "input": [
      "#### IGNORE ####\n",
      "# Double check above answer via  bootstrapping \n",
      "# Sample from the empirical distribution of arrival times\n",
      "samples   = np.random.choice(data,size=(1000,2500))\n",
      "c_samples = samples.cumsum(axis=1)\n",
      "\n",
      "# Determine which customer arrival occurs after 480 minutes\n",
      "#   1. From cumulative sum, calculate boolean vector if time over 480\n",
      "#   2. np.where returns all indices where \n",
      "num_customers = [np.where([c_samples[i,:] > 480.0][0])[0][0] for i in range(c_samples.shape[0])]\n",
      "#num_customers = [np.where([c_samples[i,:] > 480.0]==True)[0][0] for i in range(c_samples.shape[0])]\n",
      "\n",
      "print \"Mean # of customers = \",round(np.mean(num_customers),3)\n",
      "print \"Variance of # of customers = \",round(np.var(num_customers),3)"
     ],
     "language": "python",
     "metadata": {},
     "outputs": [
      {
       "output_type": "stream",
       "stream": "stdout",
       "text": [
        "Mean # of customers =  33.675\n",
        "Variance of # of customers =  78.937\n"
       ]
      }
     ],
     "prompt_number": 10
    },
    {
     "cell_type": "markdown",
     "metadata": {},
     "source": [
      "**Exercsie 4 (10 points)**\n",
      "\n",
      "The Cauchy distribution is given by \n",
      "$$\n",
      "f(x) = \\frac{1}{\\pi (1 + x^2)}, \\ \\ -\\infty \\lt x \\lt \\infty \n",
      "$$\n",
      "\n",
      "1. Integrate the tail probability $P(X > 2)$ using Monte Carlo with 1,000 samples:\n",
      "    1. Sampling from the Cauchy distribution directly\n",
      "    2. Sampling from the uniform distribution using an appropriate change of variables\n",
      "2. Plot the 95% CI for the Monte Carlo estimates for the number of samples from 1 to 1,000, and using 1,000 reps to estimate the lower and upper bounds:\n",
      "    1. For sampling from the Cauchy distribution using mulitple Monte Carlo sequences\n",
      "    2. For sampling from the uniform distribution using bootstrap samples of a single Monte Carlo sequence\n",
      "\n"
     ]
    },
    {
     "cell_type": "code",
     "collapsed": false,
     "input": [
      "np.random.seed(1)\n",
      "\n",
      "num_samp = 1000\n",
      "\n",
      "# Part 1A\n",
      "samp1a = stats.cauchy().rvs(num_samp)\n",
      "print 'P(X>2) via sampling from a Cauchy directly: ', np.mean(samp1a > 2)\n",
      "\n",
      "# Part 1B\n",
      "samp1b = stats.uniform().rvs(num_samp)\n",
      "print 'P(X>2) via sampling from a uniform with transformation: ', round(np.mean(2/(sc.pi*(samp1b**2 + 4))),4)"
     ],
     "language": "python",
     "metadata": {},
     "outputs": [
      {
       "output_type": "stream",
       "stream": "stdout",
       "text": [
        "P(X>2) via sampling from a Cauchy directly:  0.148\n",
        "P(X>2) via sampling from a uniform with transformation:  0.1469\n"
       ]
      }
     ],
     "prompt_number": 11
    },
    {
     "cell_type": "code",
     "collapsed": false,
     "input": [
      "# Part 2A\n",
      "np.random.seed(1)\n",
      "n = 1000\n",
      "num_samp = 1000\n",
      "\n",
      "x2a = stats.cauchy.rvs(size=(n, num_samp))\n",
      "y2a = 1/np.arange(1, n+1)[:, None] * np.cumsum(x2a>2, axis=0)\n",
      "\n",
      "upper2a, lower2a = np.percentile(y2a, [2.5, 97.5], axis=1)"
     ],
     "language": "python",
     "metadata": {},
     "outputs": [],
     "prompt_number": 12
    },
    {
     "cell_type": "code",
     "collapsed": false,
     "input": [
      "# Part 2B\n",
      "np.random.seed(1)\n",
      "x2b = stats.uniform.rvs(size=(n, num_samp))\n",
      "y2b = 1/np.arange(1, n+1)[:, None] * np.cumsum(2/(sc.pi*(x2b**2 + 4)), axis=0)\n",
      "\n",
      "upper2b, lower2b = np.percentile(y2b, [2.5, 97.5], axis=1)"
     ],
     "language": "python",
     "metadata": {},
     "outputs": [],
     "prompt_number": 13
    },
    {
     "cell_type": "code",
     "collapsed": false,
     "input": [
      "fig = plt.figure(figsize=(8,6))\n",
      "ax1 = fig.add_subplot(1,2,1)\n",
      "ax2 = fig.add_subplot(1,2,2, sharex=ax1)\n",
      "fig.subplots_adjust(wspace=1)\n",
      "\n",
      "ax1.plot(np.arange(1, n+1), y2a, c='grey', alpha=0.02)\n",
      "ax1.plot(np.arange(1, n+1), upper2a, 'b', np.arange(1, n+1), lower2a, 'b')\n",
      "ax1.set_title('Sampling from a Cauchy',y=1.08)\n",
      "ax1.set_ylim([0,0.6])\n",
      "ax1.set_xlabel('Number of iterations')\n",
      "ax1.set_ylabel('Estimated P(X>2)')\n",
      "\n",
      "ax2.plot(np.arange(1, n+1), y2b, c='grey', alpha=0.02)\n",
      "ax2.plot(np.arange(1, n+1), upper2b, 'b', np.arange(1, n+1), lower2b, 'b')\n",
      "ax2.set_title('Sampling from a Uniform',y=1.08);\n",
      "ax2.set_ylim([0.14,0.16]);\n",
      "ax2.set_xlabel('Number of iterations')\n",
      "ax2.set_ylabel('Estimated P(X>2)')\n"
     ],
     "language": "python",
     "metadata": {},
     "outputs": [
      {
       "metadata": {},
       "output_type": "pyout",
       "prompt_number": 14,
       "text": [
        "<matplotlib.text.Text at 0x7fae24d09e10>"
       ]
      },
      {
       "metadata": {},
       "output_type": "display_data",
       "png": "[encoded data removed]",
       "text": [
        "<matplotlib.figure.Figure at 0x7fae26429e50>"
       ]
      }
     ],
     "prompt_number": 14
    },
    {
     "cell_type": "markdown",
     "metadata": {},
     "source": [
      "We see that the method of drawing uniform random variables and transforming them leads to a much lower Monte Carlo variance than sampling directly from the Cauchy.  (Note that the y-axis scale is different on these two graphs.  If they are set to be the same, the graph for the uniform would appear to be a line.)\n"
     ]
    },
    {
     "cell_type": "markdown",
     "metadata": {},
     "source": [
      "**Exercise 5 (10 points)**.\n",
      "\n",
      "Estimate the following integral using Monte Carlo integration\n",
      "\n",
      "$$\n",
      "\\int_{-\\infty}^{\\infty} x^2 \\frac{1}{2}e^{-|x|} dx\n",
      "$$\n",
      "\n",
      "Hint: See figure.\n",
      "\n",
      "![Hint](./dexp.png)"
     ]
    },
    {
     "cell_type": "code",
     "collapsed": false,
     "input": [
      "np.random.seed(1)\n",
      "\n",
      "# Draw from a known distribution\n",
      "X = stats.norm.rvs(loc=0,scale=2,size=1e5)\n",
      "\n",
      "# Calculate importance weights\n",
      "#weights = stats.laplace.pdf(X,loc=0,scale=1)/stats.norm.pdf(X,loc=0,scale=2)\n",
      "weights = 0.5*np.exp(-np.abs(X))/stats.norm.pdf(X,loc=0,scale=2)\n",
      "\n",
      "# Return the importance weighted values of X**2 to approximate the integral\n",
      "print np.mean(weights*X**2)"
     ],
     "language": "python",
     "metadata": {},
     "outputs": [
      {
       "output_type": "stream",
       "stream": "stdout",
       "text": [
        "1.99154384025\n"
       ]
      }
     ],
     "prompt_number": 15
    },
    {
     "cell_type": "markdown",
     "metadata": {},
     "source": [
      "The approximated value of the integral is 1.992.  This is approximately equal to the true value of 2, which is $E[X^2]$ for a Laplace distribution with mean 0 and scale parameter 1.\n",
      "\n",
      "\n",
      "\n",
      "\n",
      "\n"
     ]
    },
    {
     "cell_type": "code",
     "collapsed": false,
     "input": [],
     "language": "python",
     "metadata": {},
     "outputs": []
    }
   ],
   "metadata": {}
  }
 ]
}