{
 "metadata": {
  "name": "",
  "signature": "sha256:a8b8ee9d2088bec125d0227087665661ab88075f1fe6eb23b44062f5330f45b1"
 },
 "nbformat": 3,
 "nbformat_minor": 0,
 "worksheets": [
  {
   "cells": [
    {
     "cell_type": "code",
     "collapsed": false,
     "input": [
      "import os\n",
      "import sys\n",
      "import glob\n",
      "import matplotlib.pyplot as plt\n",
      "import numpy as np\n",
      "import pandas as pd\n",
      "%matplotlib inline\n",
      "plt.style.use('ggplot')\n",
      "import math\n",
      "import sympy\n",
      "import scipy.optimize\n",
      "import scipy.linalg\n",
      "from scipy import stats\n",
      "import time"
     ],
     "language": "python",
     "metadata": {},
     "outputs": [],
     "prompt_number": 1
    },
    {
     "cell_type": "markdown",
     "metadata": {},
     "source": [
      "**Exercise 1 (10 pts)**. Avoding catastrophic cancellation.\n",
      "\n",
      "The tail of the standard logistic distributon is given by $1 - F(t) = 1 - (1+e^{-t})^{-1}$.\n",
      "\n",
      "- Define a function `f1` to calculate the tail probability of the logistic distribution using the formula given above\n",
      "- Use `sympy` to find the exact value of the tail distribution (using the same symbolic formula) to 20 decimal digits\n",
      "- Calculate the *relative error* of `f1` when $t = 25$ (The relative error is given by `abs(exact - approximate)/exact`)\n",
      "- Rewrite the expression for the tail of the logistic distribution using simple algebra so that there is no risk of cancellation, and write a function `f2` using this formula. Calculate the *relative error* of `f2` when $t = 25$. \n",
      "- How much more accurate is `f2` compared with `f1` in terms of the relative error?"
     ]
    },
    {
     "cell_type": "code",
     "collapsed": false,
     "input": [
      "# Your code here\n",
      "def f1(t):\n",
      "    return 1-(1+math.exp(-t))**-1"
     ],
     "language": "python",
     "metadata": {},
     "outputs": [],
     "prompt_number": 2
    },
    {
     "cell_type": "code",
     "collapsed": false,
     "input": [
      "exact = sympy.sympify(\"1-(1+exp(-25))**-1\").evalf(20)"
     ],
     "language": "python",
     "metadata": {},
     "outputs": [],
     "prompt_number": 3
    },
    {
     "cell_type": "code",
     "collapsed": false,
     "input": [
      "approx_f1 = f1(25)\n",
      "rel_error_f1 = abs(exact-approx_f1)/exact\n",
      "print \"Tail probability using f1 =\",approx_f1\n",
      "print \"Tail probability using sympy =\",exact,'\\n'\n",
      "print \"Relative error for f1 =\",rel_error_f1"
     ],
     "language": "python",
     "metadata": {},
     "outputs": [
      {
       "output_type": "stream",
       "stream": "stdout",
       "text": [
        "Tail probability using f1 = 1.38880018596e-11\n",
        "Tail probability using sympy = 1.3887943864771145610e-11 \n",
        "\n",
        "Relative error for f1 = 4.1759147665982646285e-6\n"
       ]
      }
     ],
     "prompt_number": 4
    },
    {
     "cell_type": "code",
     "collapsed": false,
     "input": [
      "def f2(t):\n",
      "    num = math.exp(-t)\n",
      "    return num / (1+num)\n",
      "\n",
      "approx_f2 = f2(25)\n",
      "rel_error_f2 = abs(exact-approx_f2)/exact\n",
      "print \"Tail probability using f2 =\",approx_f2\n",
      "print \"Tail probability using sympy =\",exact,'\\n'\n",
      "print \"Relative error for f2 =\",rel_error_f2"
     ],
     "language": "python",
     "metadata": {},
     "outputs": [
      {
       "output_type": "stream",
       "stream": "stdout",
       "text": [
        "Tail probability using f2 = 1.38879438648e-11\n",
        "Tail probability using sympy = 1.3887943864771145610e-11 \n",
        "\n",
        "Relative error for f2 = 2.3111252748218700406e-18\n"
       ]
      }
     ],
     "prompt_number": 5
    },
    {
     "cell_type": "markdown",
     "metadata": {},
     "source": [
      "By rewriting the function as exp(-t) / [1+exp(-t)], the relative error in estimating 1-F(25) improves by orders of magnitude."
     ]
    },
    {
     "cell_type": "markdown",
     "metadata": {},
     "source": [
      "**Exercise 2 (10 pts)**. Ill-conditioned linear problems.\n",
      "\n",
      "You are given a $n \\times p$ design matrix $X$ and a $p$-vector of observations $y$ and asked to find the coefficients $\\beta$ that solve the linear equations $X \\beta = y$. \n",
      "```python\n",
      "X = np.load('x.npy')\n",
      "y = np.load('y.npy')\n",
      "```\n",
      "\n",
      "The solution $\\beta$ can also be loaded as\n",
      "```python\n",
      "beta = np.load('b.npy')\n",
      "```\n",
      "\n",
      "- Write a formula that could solve the system of linear equations in terms of $X$ and $y$ Write a function `f1` that takes arguments $X$ and $y$ and returns $\\beta$ using this formula.\n",
      "- How could you code this formula using `np.linalg.solve` that does not require inverting a matrix? Write a function `f2` that takes arguments $X$ and $y$ and returns $\\beta$ using this.\n",
      "- Note that carefully designed algorithms *can* solve this ill-conditioned problem, which is why you should always use library functions for linear algebra rather than write your own.\n",
      "```python\n",
      "np.linalg.lstsq(x, y)[0]\n",
      "```\n",
      "- What happens if you try to solve for $\\beta$ using `f1` or `f2`? Remove the column of $X$ that is making the matrix singluar and find the $p-1$ vector $b$ using `f2`.\n",
      "- Note that the solution differs from that given by `np.linalg.lstsq`? This arises because the relevant condition number for `f2` is actually for the matrix $X^TX$ while the condition number of `lstsq` is for the matrix $X$. Why is the condition so high even after removing the column that makes the matrix singular?"
     ]
    },
    {
     "cell_type": "code",
     "collapsed": false,
     "input": [
      "# Your code here\n",
      "X = np.load('x.npy')\n",
      "y = np.load('y.npy')\n",
      "beta = np.load('b.npy')\n",
      "\n",
      "#X = np.array([[1,3],[2,5],[0,3]])\n",
      "#y = np.array([15,26,12])\n",
      "\n",
      "def f1(X=None,y=None):\n",
      "    XtXinv = np.linalg.inv(np.dot(X.T,X))\n",
      "    Xty    = np.dot(X.T,y)\n",
      "    return np.dot(XtXinv,Xty)\n",
      "\n",
      "def f2(X=None,y=None):\n",
      "    return np.linalg.solve(np.dot(X.T,X),np.dot(X.T,y))\n",
      "\n",
      "#print f1(X,y)\n",
      "#print f2(X,y)"
     ],
     "language": "python",
     "metadata": {},
     "outputs": [],
     "prompt_number": 6
    },
    {
     "cell_type": "markdown",
     "metadata": {},
     "source": [
      "If we try to solve for $\\beta$ using f1 or f2, the function crashes since the matrix $X$ is singular.  The last column of $X$ is a scalar multiple of the 4th column, so we remove the last column to make $X$ non-singular."
     ]
    },
    {
     "cell_type": "code",
     "collapsed": false,
     "input": [
      "#The last column is a multiple of the 4th column\n",
      "Xmod = X[:,0:5]\n",
      "\n",
      "print f2(Xmod,y)\n",
      "print np.linalg.lstsq(Xmod,y)[0], '\\n'\n",
      "\n",
      "print np.linalg.cond(np.dot(Xmod.T,Xmod))\n",
      "print np.linalg.cond(Xmod)"
     ],
     "language": "python",
     "metadata": {},
     "outputs": [
      {
       "output_type": "stream",
       "stream": "stdout",
       "text": [
        "[ 0.47221111  0.09617226  0.90449896  0.95138296  0.52497683]\n",
        "[ 0.46950359  0.09617226  0.90379971  0.95492725  0.52517152] \n",
        "\n",
        "3.56916189007e+28\n",
        "1.85324085869e+14\n"
       ]
      }
     ],
     "prompt_number": 7
    },
    {
     "cell_type": "markdown",
     "metadata": {},
     "source": [
      "The condition is so high because one of the columns is on a completely different scale than the other columns.  Most columns are on the scale of $10^0$, while one column is on the scale of $10^{14}$."
     ]
    },
    {
     "cell_type": "markdown",
     "metadata": {},
     "source": [
      "**Exercise 3 (10 pts)**. Importance of using efficient algorihtms.\n",
      "\n",
      "- Implement bubble sort\n",
      "- Calculate its big $\\mathcal{O}$ algorithmic complexity\n",
      "- Time the performance of bubble sort on random uniform deviate vectors of sizes `range(100, 2000, 100)` using `time.time()` from the standard library\n",
      "- Use `scipy.optimize.curve_fit` to fit an appropriate function to the collection of (size, execution time) data points. Extrapolate how long it would take to sort a random vector of size 1,000,000. Now time how long it takes for the system sort to sort a random vector of size 1,000,000.\n",
      "- Plot the fits together with the data points uisng `matplotlib.pyplot` functions."
     ]
    },
    {
     "cell_type": "code",
     "collapsed": false,
     "input": [
      "# Your code here\n",
      "def bubbleSort(x=None):\n",
      "    n = len(x)\n",
      "    j = 0\n",
      "    swapped = True\n",
      "    while swapped:\n",
      "        swapped = False\n",
      "        j += 1\n",
      "        for i in range(0,(n-j)):\n",
      "            if x[i] > x[i+1]:\n",
      "                temp   = x[i]\n",
      "                x[i]   = x[i+1]\n",
      "                x[i+1] = temp\n",
      "                swapped = True\n",
      "    return x"
     ],
     "language": "python",
     "metadata": {},
     "outputs": [],
     "prompt_number": 8
    },
    {
     "cell_type": "markdown",
     "metadata": {},
     "source": [
      "The first pass of the bubble sort algorithm goes through $n$ elements, the second pass goes through $n+1$ elements, etc.  Therefore, the total number of steps involved is $n+(n-1)+(n-2)+\\dots+1$, which equals $\\frac{n(n+1)}{2}$.  There are a constant \n",
      "number of operations at each step (one comparison, possibly three assignment operations).\n",
      "\n",
      "Therefore, the big $\\mathcal{O}$ algorithmic complexity of the bubble sort algorithm is $\\mathcal{O}(n^2)$."
     ]
    },
    {
     "cell_type": "code",
     "collapsed": false,
     "input": [
      "sizes = range(100,2000,100)\n",
      "num_sizes = len(sizes)\n",
      "timings = np.zeros(num_sizes)\n",
      "\n",
      "# Pre-allocate random numbers\n",
      "rand_nums = []\n",
      "for i in range(0,num_sizes):\n",
      "    rand_nums.append(np.random.uniform(0,1,sizes[i]))\n",
      "    \n",
      "# Perform bubble sort on each array of random numbers\n",
      "for i in range(0,num_sizes):\n",
      "    time1 = time.time()\n",
      "    bubbleSort(rand_nums[i])\n",
      "    time2 = time.time()\n",
      "    timings[i] = time2 - time1\n",
      "\n",
      "#print timings\n",
      "print \"The time in seconds for sorting random vectors of lengths 100 through 1900 are: \\n\"\n",
      "print timings"
     ],
     "language": "python",
     "metadata": {},
     "outputs": [
      {
       "output_type": "stream",
       "stream": "stdout",
       "text": [
        "The time in seconds for sorting random vectors of lengths 100 through 1900 are: \n",
        "\n",
        "[ 0.00253296  0.01020789  0.02192807  0.03995204  0.06949115  0.09054685\n",
        "  0.120857    0.16188502  0.20419097  0.25666499  0.30830693  0.35677695\n",
        "  0.43521404  0.58940196  0.68724298  0.6404438   0.72578621  0.81698585\n",
        "  0.90103102]\n"
       ]
      }
     ],
     "prompt_number": 9
    },
    {
     "cell_type": "code",
     "collapsed": false,
     "input": [
      "def f(x, b0, b1, b2):\n",
      "    return b0 + b1*x + b2*x**2\n",
      "\n",
      "B, pcov = scipy.optimize.curve_fit(f, sizes, timings)\n",
      "\n",
      "print \"The least squares coefficients are \", B, \"\\n\"\n",
      "extrapolate_time = B[0] + B[1]*1e6 + B[2]*(1e6**2)\n",
      "\n",
      "print \"The time necessary for bubble sort to sort 1,000,000 numbers in seconds is approximately: \", extrapolate_time\n",
      "\n",
      "rand1M = np.random.uniform(0,1,1e6)\n",
      "time1 = time.time()\n",
      "rand1M.sort()\n",
      "time2 = time.time()\n",
      "\n",
      "print \"The time necessary for the system sort to actually sort 1,000,000 numbers is: \", time2-time1"
     ],
     "language": "python",
     "metadata": {},
     "outputs": [
      {
       "output_type": "stream",
       "stream": "stdout",
       "text": [
        "The least squares coefficients are  [ -1.78666861e-02   5.52411958e-05   2.31956721e-07] \n",
        "\n",
        "The time necessary for bubble sort to sort 1,000,000 numbers in seconds is approximately:  232011.944188\n",
        "The time necessary for the system sort to actually sort 1,000,000 numbers is: "
       ]
      },
      {
       "output_type": "stream",
       "stream": "stdout",
       "text": [
        " 0.0820729732513\n"
       ]
      }
     ],
     "prompt_number": 10
    },
    {
     "cell_type": "code",
     "collapsed": false,
     "input": [
      "plt.plot(sizes, timings, 'o')\n",
      "\n",
      "xi = np.linspace(0,2500,2500)\n",
      "yi = B[0]+B[1]*xi + B[2]*xi*xi\n",
      "\n",
      "plt.plot(xi, yi, 'b-');"
     ],
     "language": "python",
     "metadata": {},
     "outputs": [
      {
       "metadata": {},
       "output_type": "display_data",
       "png": "[encoded data removed]",
       "text": [
        "<matplotlib.figure.Figure at 0x7f28fa240450>"
       ]
      }
     ],
     "prompt_number": 11
    },
    {
     "cell_type": "markdown",
     "metadata": {},
     "source": [
      "**Exercise 4 (20 pts)**. One of the goals of the course it that you will be able to implement novel algorihtms from the literature. \n",
      "\n",
      "- Implement the mean-shift algorithm in 1D as described [here](http://homepages.inf.ed.ac.uk/rbf/CVonline/LOCAL_COPIES/TUZEL1/MeanShift.pdf). \n",
      "    - Use the following function signature\n",
      "    ```python\n",
      "    def mean_shift(xs, x, kernel, max_iters=100, tol=1e-6):\n",
      "    ```\n",
      "    - xs is the data set, x is the starting location, and kernel is a kernel function\n",
      "    - tol is the difference in $||x||$ across iterations\n",
      "- Use the following kernels with bandwidth $h$ (a default value of 1.0 will work fine)\n",
      "    - Flat - return 1 if $||x|| < h$ and 0 otherwise\n",
      "    - Gaussian \n",
      "    $$\\frac{1}{\\sqrt{2 \\pi h}}e^{\\frac{-||x||^2}{h^2}}$$\n",
      "    - Note that $||x||$ is the norm of the data point being evaluated minus the current value of $x$\n",
      "- Use both kernels to find all 3 modes of the data set in `x1d.npy`\n",
      "- Modify the algorithm and/or kernels so that it now works in an arbitrary number of dimensions.\n",
      "- Use both kernels to find all 3 modes of the data set in `x2d.npy`\n",
      "- Plot the path of successive intermediate solutions of the mean-shift algorithm starting from `x0 = (-4, 10)` until it converges onto a mode in the 2D data for each kernel. Superimpose the path on top of a contour plot of the data density."
     ]
    },
    {
     "cell_type": "code",
     "collapsed": false,
     "input": [
      "# Your code here\n",
      "x1d = np.load('x1d.npy')\n",
      "x2d = np.load('x2d.npy')"
     ],
     "language": "python",
     "metadata": {},
     "outputs": [],
     "prompt_number": 12
    },
    {
     "cell_type": "code",
     "collapsed": false,
     "input": [
      "# Define kernel functions\n",
      "def flat(x,h=1):\n",
      "    if np.linalg.norm(x) < h:\n",
      "        return 1\n",
      "    else:\n",
      "        return 0\n",
      "\n",
      "def Gaussian(x,h=1):\n",
      "    return (math.sqrt(2*math.pi*h))**-1 * math.exp(-np.linalg.norm(x)**2 / h**2)\n",
      "\n",
      "# Assume that only bandwith used is h=1\n",
      "def mean_shift(xs, x, kernel, max_iters=100, tol=1e-6):\n",
      "    n = len(xs)\n",
      "    it = 0\n",
      "    stop = False\n",
      "    while it < max_iters and stop==False:\n",
      "        it += 1\n",
      "        num = 0\n",
      "        denom = 0\n",
      "        for i in range(0,n):\n",
      "            num   += kernel(np.linalg.norm(xs[i]-x)**2) * xs[i]\n",
      "            denom += kernel(np.linalg.norm(xs[i]-x)**2)\n",
      "        m = num / denom - x\n",
      "        x_new = x+m\n",
      "                \n",
      "        if abs(np.linalg.norm(x_new - x)) < tol:\n",
      "            stop = True\n",
      "        else:\n",
      "            x = x_new\n",
      "    return x"
     ],
     "language": "python",
     "metadata": {},
     "outputs": [],
     "prompt_number": 13
    },
    {
     "cell_type": "code",
     "collapsed": false,
     "input": [
      "## Note this block takes about 45 seconds to run\n",
      "test = range(-6,7)\n",
      "n_test = len(test)\n",
      "mode_1d_flat     = np.zeros(n_test)\n",
      "mode_1d_Gaussian = np.zeros(n_test)\n",
      "\n",
      "print \"For starting values -6, -5, ..., 5, 6, the resulting modes using the flat kernel are:\"\n",
      "for i in range(0,n_test):\n",
      "    mode_1d_flat[i] = mean_shift(x1d,test[i],flat)\n",
      "print mode_1d_flat\n",
      "print \"From this, we conclude that the modes are at -4.995, 0.354, and 3.979.\\n\"\n",
      "\n",
      "print \"For starting values -6, -5, ..., 5, 6, the resulting modes using the Gaussian kernel are:\"\n",
      "for i in test:\n",
      "    mode_1d_Gaussian[i] = mean_shift(x1d,test[i],Gaussian)\n",
      "print mode_1d_Gaussian\n",
      "print \"From this, we conclude that the modes are at -4.953, 0.483, and 3.912.\""
     ],
     "language": "python",
     "metadata": {},
     "outputs": [
      {
       "output_type": "stream",
       "stream": "stdout",
       "text": [
        "For starting values -6, -5, ..., 5, 6, the resulting modes using the flat kernel are:\n",
        "[-4.99502468 -4.99502468 -4.99090439 -4.99090439  0.35441951  0.35441951\n",
        "  0.35441951  0.57546744  3.97936418  3.97936418  3.97936418  3.97936418\n",
        "  3.97936418]"
       ]
      },
      {
       "output_type": "stream",
       "stream": "stdout",
       "text": [
        "\n",
        "From this, we conclude that the modes are at -4.995, 0.354, and 3.979.\n",
        "\n",
        "For starting values -6, -5, ..., 5, 6, the resulting modes using the Gaussian kernel are:\n",
        "[-4.95304498 -4.95304443 -4.95304018 -4.95303961  0.48146406  0.48242195\n",
        "  0.482693    0.48277251  3.9122442   3.91224396  3.91225089  3.91225116\n",
        "  3.91225046]"
       ]
      },
      {
       "output_type": "stream",
       "stream": "stdout",
       "text": [
        "\n",
        "From this, we conclude that the modes are at -4.953, 0.483, and 3.912.\n"
       ]
      }
     ],
     "prompt_number": 14
    },
    {
     "cell_type": "code",
     "collapsed": false,
     "input": [
      "def mean_shift_path(xs, x, kernel, max_iters=100, tol=1e-6):\n",
      "    n = len(xs)\n",
      "    it = 0\n",
      "    stop = False\n",
      "    path=[]\n",
      "    path.append(x)\n",
      "    while it < max_iters and stop==False:\n",
      "        it += 1\n",
      "        num = 0\n",
      "        denom = 0\n",
      "        for i in range(0,n):\n",
      "            num   += kernel(np.linalg.norm(xs[i]-x)**2) * xs[i]\n",
      "            denom += kernel(np.linalg.norm(xs[i]-x)**2)\n",
      "        m = num / denom - x\n",
      "        x_new = x+m\n",
      "                \n",
      "        if abs(np.linalg.norm(x_new - x)) < tol:\n",
      "            stop = True\n",
      "        else:\n",
      "            x = x_new\n",
      "        path.append(x)\n",
      "    return path\n",
      "\n",
      "x0 = np.array([-5,5])\n",
      "\n",
      "hist_flat     = np.array(mean_shift_path(x2d, x0, flat, 20))\n",
      "hist_Gaussian = np.array(mean_shift_path(x2d, x0,Gaussian, 20))"
     ],
     "language": "python",
     "metadata": {},
     "outputs": [],
     "prompt_number": 15
    },
    {
     "cell_type": "code",
     "collapsed": false,
     "input": [
      "#plt.scatter(x2d[:,0],x2d[:,1])\n",
      "xmin = -6\n",
      "xmax = 10\n",
      "ymin = -1\n",
      "ymax = 12.5\n",
      "\n",
      "X, Y = np.mgrid[xmin:xmax:100j, ymin:ymax:100j]\n",
      "positions = np.vstack([X.ravel(), Y.ravel()])\n",
      "values = np.vstack([x2d[:,0], x2d[:,1]])\n",
      "kernel = stats.gaussian_kde(values)\n",
      "Z = np.reshape(kernel(positions).T, X.shape)\n",
      "\n",
      "print \"The red line shows the path of the mean shift algorithm with the Gaussian kernel.\"  \n",
      "print \"The green line corresponds to the path of the flat kernel.\", '\\n'  \n",
      "print \"Note that the starting point was shifted to (-5,5) so that there would be at least one data point in the window of the flat kernel.\"\n",
      "\n",
      "plt.contour(X,Y,Z)\n",
      "plt.plot(hist_flat[:,0],hist_flat[:,1],c='g')\n",
      "plt.plot(hist_Gaussian[:,0],hist_Gaussian[:,1],c='r')\n",
      "plt.show()"
     ],
     "language": "python",
     "metadata": {},
     "outputs": [
      {
       "output_type": "stream",
       "stream": "stdout",
       "text": [
        "The red line shows the path of the mean shift algorithm with the Gaussian kernel.\n",
        "The green line corresponds to the path of the flat kernel. \n",
        "\n",
        "Note that the starting point was shifted to (-5,5) so that there would be at least one data point in the window of the flat kernel.\n"
       ]
      },
      {
       "metadata": {},
       "output_type": "display_data",
       "png": "[encoded data removed]",
       "text": [
        "<matplotlib.figure.Figure at 0x7f28fa7abd90>"
       ]
      }
     ],
     "prompt_number": 22
    },
    {
     "cell_type": "code",
     "collapsed": false,
     "input": [],
     "language": "python",
     "metadata": {},
     "outputs": []
    }
   ],
   "metadata": {}
  }
 ]
}